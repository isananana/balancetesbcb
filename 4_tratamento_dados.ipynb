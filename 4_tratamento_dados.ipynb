{
 "cells": [
  {
   "cell_type": "markdown",
   "id": "98bd09a8-452f-4dbe-8dc9-2c9771b3e224",
   "metadata": {},
   "source": [
    "### TRATAMENTO E PREPARAÇÃO DOS DADOS PARA ANÁLISE EXPLORATÓRIA"
   ]
  },
  {
   "cell_type": "markdown",
   "id": "81fbea2f-52f7-4840-aebe-1d244c74c3a8",
   "metadata": {},
   "source": [
    "**Por Isabella de Moura Rocha**\n",
    "\n",
    "Graduada em Administração, pela UFSCar Sorocaba e Mestra em Administração, pela UFSCar Sorocaba, isabellamrocha0@gmail.com"
   ]
  },
  {
   "cell_type": "markdown",
   "id": "c5626041-ed4a-43eb-ad85-9fee5b132bfa",
   "metadata": {},
   "source": [
    "*Os dados foram usados na dissertação: ROCHA, I.M. Rentabilidade, eficiência e risco em cooperativas de crédito e bancos comerciais. 2023. Dissertação (Mestrado em Administração) – Universidade Federal de São Carlos, Sorocaba, 2023. Disponível em: https://repositorio.ufscar.br/handle/ufscar/18956.*"
   ]
  },
  {
   "cell_type": "code",
   "execution_count": 1,
   "id": "f8ae07d8-d947-4ac4-82f3-7ebe43085e9f",
   "metadata": {},
   "outputs": [],
   "source": [
    "import pandas as pd\n",
    "import plotly.express as px\n",
    "import numpy as np\n",
    "from copy import deepcopy\n",
    "from sklearn import preprocessing\n",
    "import requests"
   ]
  },
  {
   "cell_type": "markdown",
   "id": "18b341be-456d-44e7-b29f-7ee6a9bde031",
   "metadata": {},
   "source": [
    "### 1. Importo os DFs necessários"
   ]
  },
  {
   "cell_type": "code",
   "execution_count": 2,
   "id": "36510bbc",
   "metadata": {},
   "outputs": [],
   "source": [
    "df_banc=pd.read_parquet('/home/isabella/Masters/DATA/bancos_jun_dez_parq.parquet') # Balancetes consolidados Bancos\n",
    "df_coop=pd.read_parquet('/home/isabella/Masters/DATA/cooperativas_jun_dez_parq.parquet') # Balancetes consolidados Cooperativas de crédito"
   ]
  },
  {
   "cell_type": "code",
   "execution_count": 3,
   "id": "3520d90a-d6c8-4d53-88e8-f7767308f9b5",
   "metadata": {},
   "outputs": [],
   "source": [
    "cadastro=pd.read_parquet('/home/isabella/Masters/dados_novos/dados_cadastrais_cooperativas_bancos_comerciais.parquet') # Dados cadastrais derivados "
   ]
  },
  {
   "cell_type": "markdown",
   "id": "46080777-2342-4e95-858c-78618a2fa1f9",
   "metadata": {},
   "source": [
    "### 2. Tratamento dos dados"
   ]
  },
  {
   "cell_type": "markdown",
   "id": "1c48a68b-187a-4943-af2a-9070f0cd13a5",
   "metadata": {},
   "source": [
    "#### 2.1 Os saldos devem ser convertidos em valores numéricos"
   ]
  },
  {
   "cell_type": "code",
   "execution_count": 4,
   "id": "be8835db",
   "metadata": {},
   "outputs": [],
   "source": [
    "def arruma_df(valor): # arruma coluna 'SALDO'\n",
    "    try:\n",
    "        v = valor.replace(\".\", \"\")\n",
    "        f = float(v)\n",
    "    except:\n",
    "        f = valor\n",
    "    return f"
   ]
  },
  {
   "cell_type": "code",
   "execution_count": 5,
   "id": "f3b371ca",
   "metadata": {},
   "outputs": [],
   "source": [
    "df_banc['SALDO'] = df_banc['SALDO'].apply(arruma_df) # aplica função arruma saldo\n",
    "df_coop['SALDO'] = df_coop['SALDO'].apply(arruma_df) # aplica função arruma saldo"
   ]
  },
  {
   "cell_type": "markdown",
   "id": "cfd6bfee-9b08-44a6-a540-3c4cf5bf375d",
   "metadata": {},
   "source": [
    "#### 2.2 Tenho interesse apenas nos documentos 4010 e 4016 das entidades supervisionadas"
   ]
  },
  {
   "cell_type": "markdown",
   "id": "b1ecc8e1-0609-4bb6-917c-f63839849328",
   "metadata": {},
   "source": [
    "Há contas de interesse que ora aparecem apenas no documento 4010, ora aparecem no 4016. \n",
    "\n",
    "Consultem documentação do BCB:\n",
    "\n",
    "- Doc. 4010: https://www.bcb.gov.br/fis/info/doc4010.asp?frame=1\n",
    "- Doc. 4016: https://www.bcb.gov.br/fis/info/doc4016.asp?frame=1 "
   ]
  },
  {
   "cell_type": "code",
   "execution_count": 6,
   "id": "063d2a5b",
   "metadata": {},
   "outputs": [],
   "source": [
    "df_banc = df_banc[df_banc['DOCUMENTO'].isin([4016, 4010])] # RECEITA E DESPESA aparecem apenas no doc. 4010 e o restante no 4016\n",
    "df_coop = df_coop[df_coop['DOCUMENTO'].isin([4016, 4010])] # RECEITA E DESPESA aparecem apenas no doc. 4010 e o restante no 4016"
   ]
  },
  {
   "cell_type": "markdown",
   "id": "e5b4b247-b00a-47cb-b23f-3f67162a9316",
   "metadata": {},
   "source": [
    "Passo para datetime a coluna com DATA"
   ]
  },
  {
   "cell_type": "code",
   "execution_count": 7,
   "id": "b588aa66",
   "metadata": {
    "scrolled": true
   },
   "outputs": [],
   "source": [
    "df_banc['DATA'] = pd.to_datetime(df_banc['DATA'], format='%Y%m')\n",
    "df_coop['DATA'] = pd.to_datetime(df_coop['DATA'], format='%Y%m')"
   ]
  },
  {
   "cell_type": "markdown",
   "id": "d493e37c-1a9b-47db-bad1-fd223a04e7e5",
   "metadata": {},
   "source": [
    "#### 2.3 Vou comparar Bancos COMERCIAIS com Cooperativas de Crédito\n",
    "\n",
    "Então filtro apenas aqueles bancos cuja taxonomia é relacionada aos bancos comerciais. \n",
    "\n",
    "Para cooperativas de crédito não faço o mesmo, pois quero comparar bancos comerciais com todas as cooperativas de crédito."
   ]
  },
  {
   "cell_type": "code",
   "execution_count": 8,
   "id": "b957ca86",
   "metadata": {},
   "outputs": [],
   "source": [
    "df_banc = df_banc[df_banc['TAXONOMIA'].isin(['BANCOS MULTIPLOS', 'BANCOS COMERCIAIS', 'BANCOS COMERCIAIS ESTRAGEIROS - FILIAL PAIS'])]"
   ]
  },
  {
   "cell_type": "markdown",
   "id": "a725694e-30bb-466c-bbde-f1ca296dfcff",
   "metadata": {},
   "source": [
    "### 3. Cálculo do tamanho das contas de ATIVO de ambas as entidades"
   ]
  },
  {
   "cell_type": "code",
   "execution_count": 9,
   "id": "be95c1f9-3dd9-496f-b58c-900f1a720347",
   "metadata": {},
   "outputs": [],
   "source": [
    "df_banc['CONTA'] = df_banc['CONTA'].astype(str) \n",
    "df_banc['PRIMEIRO_DIGITO'] = df_banc['CONTA'].str[0] \n",
    "\n",
    "df_coop['CONTA'] = df_coop['CONTA'].astype(str) \n",
    "df_coop['PRIMEIRO_DIGITO'] = df_coop['CONTA'].str[0] \n",
    "\n",
    "ativo_banco = df_banc[df_banc['PRIMEIRO_DIGITO'].isin(['1', '2', '3'])] # As contas que se iniciam com 1, 2 e 3 são de ativo\n",
    "ativo_coope = df_coop[df_coop['PRIMEIRO_DIGITO'].isin(['1', '2', '3'])] # As contas que se iniciam com 1, 2 e 3 são de ativo\n",
    "\n",
    "ativo_banco = ativo_banco.groupby(['DATA','DOCUMENTO','TAXONOMIA','CNPJ'])['SALDO'].sum().reset_index()\n",
    "ativo_coope = ativo_coope.groupby(['DATA','DOCUMENTO','TAXONOMIA','CNPJ'])['SALDO'].sum().reset_index()"
   ]
  },
  {
   "cell_type": "code",
   "execution_count": 10,
   "id": "9c1810fb-01c0-400d-aa5f-ee7cb63be458",
   "metadata": {},
   "outputs": [],
   "source": [
    "ativo_banco.rename(columns={'SALDO': 'ativo'}, inplace=True)\n",
    "ativo_banco['ativo_ln'] = np.log(ativo_banco['ativo'])\n",
    "\n",
    "ativo_coope.rename(columns={'SALDO': 'ativo'}, inplace=True)\n",
    "ativo_coope['ativo_ln'] = np.log(ativo_coope['ativo'])"
   ]
  },
  {
   "cell_type": "markdown",
   "id": "2262345e-565c-4627-a240-fa7526970c52",
   "metadata": {},
   "source": [
    "### 4. Cálculo do ROE e do ROA de ambas as entidades"
   ]
  },
  {
   "cell_type": "markdown",
   "id": "da7c231d",
   "metadata": {},
   "source": [
    "*BITTENCOURT, W.R. et al, 2017. Rentabilidade em bancos múltiplos e cooperativas de crédito brasileiros. Revista de Administração Contemporânea, 21, pp.22-40.*"
   ]
  },
  {
   "cell_type": "markdown",
   "id": "9eb57c8a-1bcc-4096-a8bd-a421b88363a1",
   "metadata": {},
   "source": [
    "#### 4.1 Filtro as contas contábeis COSIF de interesse"
   ]
  },
  {
   "cell_type": "code",
   "execution_count": 11,
   "id": "a97513e8",
   "metadata": {},
   "outputs": [],
   "source": [
    "contas = ['70000009','80000006','60000002','10000007','20000004'] # detalhes no artigo base da seção\n",
    "\n",
    "df_banc = df_banc[df_banc['CONTA'].isin(contas)]\n",
    "df_coop = df_coop[df_coop['CONTA'].isin(contas)]"
   ]
  },
  {
   "cell_type": "markdown",
   "id": "15d3ca29-83cc-47e6-832d-1d20a364df18",
   "metadata": {},
   "source": [
    "#### 4.2 Pivoto para conseguir trabalhar mais facilmente"
   ]
  },
  {
   "cell_type": "code",
   "execution_count": 12,
   "id": "0cd8ffd2",
   "metadata": {},
   "outputs": [],
   "source": [
    "pivot_banc = df_banc.pivot_table(index=['DATA','DOCUMENTO','TAXONOMIA','CNPJ'], columns='CONTA', values='SALDO').reset_index()\n",
    "pivot_coop = df_coop.pivot_table(index=['DATA','DOCUMENTO','TAXONOMIA','CNPJ'], columns='CONTA', values='SALDO').reset_index()"
   ]
  },
  {
   "cell_type": "markdown",
   "id": "fa20ed6a-982d-481c-978a-171aa78b89b6",
   "metadata": {},
   "source": [
    "#### 4.3 Calculo o ROE e o ROA para cada entidade"
   ]
  },
  {
   "cell_type": "code",
   "execution_count": 13,
   "id": "6476bf58-1b1f-4457-9dfa-0d31a6e3aa57",
   "metadata": {},
   "outputs": [],
   "source": [
    "pivot_banc['roe'] = (pivot_banc['70000009'] + pivot_banc['80000006']) / pivot_banc['60000002'] # detalhes no artigo base da seção\n",
    "pivot_banc['roa'] = (pivot_banc['70000009'] + pivot_banc['80000006']) / (pivot_banc['10000007'] + pivot_banc['20000004']) # detalhes no artigo base da seção"
   ]
  },
  {
   "cell_type": "code",
   "execution_count": 17,
   "id": "37077a9d-0fb8-4586-a644-1df1c2dd337d",
   "metadata": {},
   "outputs": [],
   "source": [
    "completo_banco = pd.merge(pivot_banc, ativo_banco, on=['DATA', 'DOCUMENTO', 'TAXONOMIA', 'CNPJ'], how='left')\n",
    "completo_coope = pd.merge(pivot_coop, ativo_coope, on=['DATA', 'DOCUMENTO', 'TAXONOMIA', 'CNPJ'], how='left')"
   ]
  },
  {
   "cell_type": "code",
   "execution_count": 21,
   "id": "27080c40",
   "metadata": {},
   "outputs": [],
   "source": [
    "completo_banco['ano'] = completo_banco['DATA'].dt.year # quero criar uma coluna ano\n",
    "completo_coope['ano'] = completo_coope['DATA'].dt.year # quero criar uma coluna ano "
   ]
  },
  {
   "cell_type": "code",
   "execution_count": 22,
   "id": "dacfb9a6-e6e2-42fa-b11c-b3133145aa0a",
   "metadata": {},
   "outputs": [],
   "source": [
    "completo_banco.to_parquet('/home/isabella/Masters/dados_novos/ativo_rentabilidade_banco.parquet')"
   ]
  },
  {
   "cell_type": "code",
   "execution_count": 23,
   "id": "aa7dfaaa-6ab0-4857-bb86-2796fc3f8c8d",
   "metadata": {
    "scrolled": true
   },
   "outputs": [],
   "source": [
    "completo_coope.to_parquet('/home/isabella/Masters/dados_novos/ativo_rentabilidade_coop.parquet')"
   ]
  },
  {
   "cell_type": "code",
   "execution_count": null,
   "id": "4854b929",
   "metadata": {},
   "outputs": [],
   "source": []
  }
 ],
 "metadata": {
  "kernelspec": {
   "display_name": "Python 3 (ipykernel)",
   "language": "python",
   "name": "python3"
  },
  "language_info": {
   "codemirror_mode": {
    "name": "ipython",
    "version": 3
   },
   "file_extension": ".py",
   "mimetype": "text/x-python",
   "name": "python",
   "nbconvert_exporter": "python",
   "pygments_lexer": "ipython3",
   "version": "3.10.12"
  }
 },
 "nbformat": 4,
 "nbformat_minor": 5
}
