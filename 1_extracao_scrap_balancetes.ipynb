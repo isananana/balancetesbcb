{
 "cells": [
  {
   "cell_type": "markdown",
   "id": "c9e7dce6",
   "metadata": {},
   "source": [
    "### EXTRAÇÃO DOS BALANCETES E BALANÇOS DAS IFS REGULADAS PELO BANCO CENTRAL DO BRASIL (BCB)"
   ]
  },
  {
   "cell_type": "markdown",
   "id": "38698967-f6f5-48bc-948d-63173ba55a0d",
   "metadata": {},
   "source": [
    "- **Nome oficial da base:** Balancetes e Balanços Patrimoniais\n",
    "- **Órgão:** CMN, BCB\n",
    "- **Periodicidade:** mensal\n",
    "- **Período:** 1988 a 2022 \n",
    "- **Forma de extração:** webscraping\n",
    "- **Link:** hhttps://www.bcb.gov.br/estabilidadefinanceira/balancetesbalancospatrimoniais<td><td>"
   ]
  },
  {
   "cell_type": "markdown",
   "id": "50c7e603-aa57-4b4b-9cc4-5bf78ff3bcd4",
   "metadata": {},
   "source": [
    "**Por Luis Adolfo Mazini Rodrigues¹ e Isabella de Moura Rocha²**\n",
    "\n",
    "- ¹Graduado em Engenharia Mecânica, pela USP São Carlos e Doutorando em Bioenergia, pela USP Piracicaba, luis.mazinirodrigues@gmail.com \n",
    "- ²Graduada em Administração, pela UFSCar Sorocaba e Mestra em Administração, pela UFSCar Sorocaba, isabellamrocha0@gmail.com"
   ]
  },
  {
   "cell_type": "markdown",
   "id": "82a4d690-91bd-40da-bc4a-34803714d567",
   "metadata": {},
   "source": [
    "*Os dados são base da dissertação: ROCHA, I.M. Rentabilidade, eficiência e risco em cooperativas de crédito e bancos comerciais. 2023. Dissertação (Mestrado em Administração) – Universidade Federal de São Carlos, Sorocaba, 2023. Disponível em: https://repositorio.ufscar.br/handle/ufscar/18956.*"
   ]
  },
  {
   "cell_type": "markdown",
   "id": "05e866c8-b274-4656-87e4-5ef9f1d2517a",
   "metadata": {
    "jp-MarkdownHeadingCollapsed": true
   },
   "source": [
    "### 1. Bibliotecas necessárias\n",
    "\n",
    "São importadas as bibliotecas necessárias para o scraping da web e processamento dos dados das instituições financeiras."
   ]
  },
  {
   "cell_type": "code",
   "execution_count": 1,
   "id": "a4c9b10e",
   "metadata": {},
   "outputs": [],
   "source": [
    "import pandas as pd\n",
    "import numpy as np\n",
    "import wget\n",
    "from zipfile import ZipFile\n",
    "from selenium import webdriver\n",
    "from selenium.webdriver.common.keys import Keys\n",
    "from selenium.webdriver.support.select import Select\n",
    "import csv\n",
    "from datetime import datetime\n",
    "import time"
   ]
  },
  {
   "cell_type": "markdown",
   "id": "66827b3e-4459-4126-8c67-e7f04f107120",
   "metadata": {
    "jp-MarkdownHeadingCollapsed": true
   },
   "source": [
    "### 2. Coleta de dados\n",
    "\n",
    "Nesta seção, é realizado o scraping da web para baixar os balancetes das instituições."
   ]
  },
  {
   "cell_type": "code",
   "execution_count": 2,
   "id": "4e086f5f",
   "metadata": {},
   "outputs": [],
   "source": [
    "class BCdata:\n",
    "    def __init__(self):\n",
    "        self.profile = webdriver.FirefoxProfile() # inicializa o perfil do navegador\n",
    "        self.profile.set_preference(\"browser.download.folderList\", 2) # define as preferências\n",
    "        self.profile.set_preference(\"browser.download.manager.showWhenStarting\", False)\n",
    "        self.profile.set_preference(\"browser.download.dir\", \"/home/isabella/Documents/Masters/DATA/cooperativas_bancos/\")\n",
    "        self.profile.set_preference(\"browser.helperApps.neverAsk.saveToDisk\", \"application/octet-stream\")\n",
    "        self.bot = webdriver.Firefox(firefox_profile = self.profile, executable_path = '/usr/local/bin/geckodriver')\n",
    "    def downloadNow(self, list_value, list_id):\n",
    "        bot = self.bot # obtém o navegador\n",
    "        bot.get('https://www4.bcb.gov.br/fis/cosif/balancetes.asp?frame=1')\n",
    "        i = 1\n",
    "        for ids in list_id: # itera sobre os IDs \n",
    "            sel = Select(bot.find_element_by_xpath('//*[@id=\"' + ids + '\"]'))\n",
    "            i+=1\n",
    "            for text in list_value:\n",
    "                try:\n",
    "                    str_search = '/fis/cosif/cont/balan/' + ids.lower() + '/' + text + ids.upper() # procura pelo arquivo zip no site\n",
    "                    try:\n",
    "                        sel.select_by_value(str_search + '.ZIP') # tenta selecionar o arquivo ZIP\n",
    "                    except:\n",
    "                        sel.select_by_value(str_search + '.zip') # se falhar, tenta com minúsculas\n",
    "                    gotit = bot.find_element_by_xpath('/html/body/div/table[1]/tbody/tr[' + str(i) + ']/td[3]/input');  # clica em download\n",
    "                    gotit.click()\n",
    "                except:\n",
    "                    pass"
   ]
  },
  {
   "cell_type": "code",
   "execution_count": 2,
   "id": "aec24622",
   "metadata": {},
   "outputs": [],
   "source": [
    "list_value = [] # inicializa lista vazia para armazenagem\n",
    "list_id = ['Bancos', 'Cooperativas'] # define uma lista de IDs (bancos e cooperativas) para usar no método downloadNow\n",
    "for ano in range(1988, 2022): # primeiro e último anos disponíveis\n",
    "    for mes in range(1, 13): # meses de 1 a 12\n",
    "        if mes < 10:  # se mês for menor do que 10 então adicione um zero, para manter o formato 'YYYYMM'\n",
    "            list_value.append(str(ano) + '0' + str(mes))\n",
    "        else: # se mês for maior do que 10, apenas concatena ano e mês\n",
    "            list_value.append(str(ano) + str(mes))"
   ]
  },
  {
   "cell_type": "code",
   "execution_count": 4,
   "id": "5777b219",
   "metadata": {},
   "outputs": [
    {
     "name": "stderr",
     "output_type": "stream",
     "text": [
      "/tmp/ipykernel_9529/2935450669.py:3: DeprecationWarning: firefox_profile has been deprecated, please use an Options object\n",
      "  self.profile = webdriver.FirefoxProfile()\n",
      "/tmp/ipykernel_9529/2935450669.py:8: DeprecationWarning: executable_path has been deprecated, please pass in a Service object\n",
      "  self.bot = webdriver.Firefox(firefox_profile = self.profile, executable_path = '/usr/local/bin/geckodriver')\n",
      "/tmp/ipykernel_9529/2935450669.py:8: DeprecationWarning: firefox_profile has been deprecated, please pass in an Options object\n",
      "  self.bot = webdriver.Firefox(firefox_profile = self.profile, executable_path = '/usr/local/bin/geckodriver')\n",
      "/tmp/ipykernel_9529/2935450669.py:14: DeprecationWarning: find_element_by_* commands are deprecated. Please use find_element() instead\n",
      "  sel = Select(bot.find_element_by_xpath('//*[@id=\"' + ids + '\"]'))\n",
      "/tmp/ipykernel_9529/2935450669.py:23: DeprecationWarning: find_element_by_* commands are deprecated. Please use find_element() instead\n",
      "  gotit = bot.find_element_by_xpath('/html/body/div/table[1]/tbody/tr[' + str(i) + ']/td[3]/input');\n"
     ]
    }
   ],
   "source": [
    "bc = BCdata() # cria uma instância da classe BCdata\n",
    "bc.downloadNow(list_value, list_id) # chama o método downloadNow da instância bc, e passa as listas list_value e list_id como argumentos"
   ]
  },
  {
   "cell_type": "code",
   "execution_count": 3,
   "id": "4274e41c",
   "metadata": {},
   "outputs": [],
   "source": [
    "arquivos_zip = [] # inicializa lista vazia para armazenagem dos arquivos zip\n",
    "str_file = '' # inicializa uma string vazia para armazenar o nome do arquivo temporariamente\n",
    "for instituto in list_id: # loop pelos ids das instituições em list_id\n",
    "    for ano in range(2001, 2022): # quero apenas esses anos agora\n",
    "        for mes in range(1, 13): # mesmas condições da verificação anterior\n",
    "            if mes < 10:\n",
    "                str_file = str(ano) + '0' + str(mes) + instituto.upper()\n",
    "            else:\n",
    "                str_file = str(ano) + str(mes) + instituto.upper()\n",
    "            arquivos_zip.append(str_file)    "
   ]
  },
  {
   "cell_type": "markdown",
   "id": "2742c38d-f6de-4b10-ad47-93affd391953",
   "metadata": {
    "jp-MarkdownHeadingCollapsed": true
   },
   "source": [
    "### 3. Pré-processamento de Dados\n",
    "\n",
    "Nesta seção, os arquivos são dezipados e tratados para limpeza e organização."
   ]
  },
  {
   "cell_type": "code",
   "execution_count": 5,
   "id": "632942e2",
   "metadata": {},
   "outputs": [],
   "source": [
    "new_arq = list() # nova lista\n",
    "header = ['#DATA_BASE','DOCUMENTO','CNPJ','AGENCIA','NOME_INSTITUICAO','COD_CONGL','NOME_CONGL','TAXONOMIA','CONTA','NOME_CONTA','SALDO'] # cabeçalho do arquivo csv\n",
    "for arq in arquivos_zip: \n",
    "\n",
    "    if 'bancos' in arq.lower(): # loop pelos nomes de arquivo na lista arquivos_zip\n",
    "        instituicao = 'BANCOS'  # se o nome do arquivo contiver 'bancos', então retorne 'BANCOS'\n",
    "    else:\n",
    "        instituicao = 'COOPERATIVAS' # se não, retorne 'COOPERATIVAS'\n",
    "    try:\n",
    "        try:  # extrai o arquivo ZIP para o diretório da instituição financeira e adiciona o nome do arquivo à lista\n",
    "            ZipFile('/home/isabella/Documents/Masters/DATA/cooperativas_bancos/' + arq + '.ZIP').extractall('/home/isabella/Documents/Masters/DATA/cooperativas_bancos/CSV/' + instituicao)\n",
    "            new_arq.append('/home/isabella/Documents/Masters/DATA/cooperativas_bancos/CSV/' + instituicao + '/' + arq + '.CSV')\n",
    "        except:\n",
    "            ZipFile('/home/isabella/Documents/Masters/DATA/cooperativas_bancos/' + arq + '.zip').extractall('/home/isabella/Documents/Masters/DATA/cooperativas_bancos/CSV/' + instituicao)\n",
    "            new_arq.append('/home/isabella/Documents/Masters/DATA/cooperativas_bancos/CSV/' + instituicao + '/' + arq + '.CSV')\n",
    "    except:\n",
    "        pass"
   ]
  },
  {
   "cell_type": "code",
   "execution_count": 6,
   "id": "b6eb8ed5",
   "metadata": {},
   "outputs": [],
   "source": [
    "for arq in new_arq:\n",
    "    with open(arq, 'r', encoding='ISO8859-1') as readFile:\n",
    "        lines = list(csv.reader(readFile, delimiter=';'))\n",
    "        while True: # procura a linha que contém '#DATA_BASE' ou 'CNPJ'\n",
    "            if '#DATA_BASE' in lines[0] or 'CNPJ' in lines[0]:\n",
    "                break\n",
    "            else:\n",
    "                del lines[0] # se não encontrar, dropa a primeira linha\n",
    "        lines[0][0] = 'DATA'\n",
    "    with open(arq, 'w', encoding='ISO8859-1') as writeFile:\n",
    "        writer = csv.writer(writeFile, delimiter='|')\n",
    "        writer.writerows(lines)"
   ]
  },
  {
   "cell_type": "code",
   "execution_count": 7,
   "id": "01b18614",
   "metadata": {},
   "outputs": [],
   "source": [
    "bancos_arq = list()\n",
    "cooperativas_arq = list()\n",
    "\n",
    "for arq in new_arq: # cada arquivo é adicionado a sua respectiva instituição financeira\n",
    "    if 'csv/bancos' in arq.lower():\n",
    "        bancos_arq.append(arq)\n",
    "    else:\n",
    "        cooperativas_arq.append(arq)"
   ]
  },
  {
   "cell_type": "code",
   "execution_count": 9,
   "id": "35bb86db",
   "metadata": {},
   "outputs": [],
   "source": [
    "df_bancos = pd.concat(map(lambda x: pd.read_csv(x, sep='|', decimal=',', encoding='ISO8859-1'), bancos_arq)) # lê cada arquiv csv da lista e utiliza esses parâmetros para garantir a leitura correta, após isso concatena todos"
   ]
  },
  {
   "cell_type": "code",
   "execution_count": 10,
   "id": "70b80fed",
   "metadata": {},
   "outputs": [],
   "source": [
    "df_cooperativas = pd.concat(map(lambda x: pd.read_csv(x, sep='|', decimal=',', encoding='ISO8859-1'), cooperativas_arq)) # lê cada arquiv csv da lista e utiliza esses parâmetros para garantir a leitura correta, após isso concatena todos"
   ]
  },
  {
   "cell_type": "code",
   "execution_count": 11,
   "id": "eedd9275",
   "metadata": {},
   "outputs": [],
   "source": [
    "df_bancos.to_csv('allBancos.csv')"
   ]
  },
  {
   "cell_type": "code",
   "execution_count": 12,
   "id": "3fba3dc1",
   "metadata": {},
   "outputs": [],
   "source": [
    "df_cooperativas.to_csv('allCoop.csv')"
   ]
  },
  {
   "cell_type": "code",
   "execution_count": 14,
   "id": "1d0aa673",
   "metadata": {},
   "outputs": [],
   "source": [
    "df_cooperativas[\"NOME_INSTITUICAO\"] = np.where(df_cooperativas[\"NOME_INSTITUICAO\"].isnull(), df_cooperativas[\"NOME INSTITUICAO\"], df_cooperativas[\"NOME_INSTITUICAO\"])"
   ]
  },
  {
   "cell_type": "code",
   "execution_count": 18,
   "id": "3da25129",
   "metadata": {},
   "outputs": [],
   "source": [
    "df_cooperativas = df_cooperativas.drop('NOME INSTITUICAO', axis=1, inplace=True)"
   ]
  },
  {
   "cell_type": "code",
   "execution_count": null,
   "id": "ffb472c5",
   "metadata": {},
   "outputs": [],
   "source": [
    "df_cooperativas['NOME INSTITUICAO'] = df_cooperativas.loc[df_cooperativas['NOME INSTITUICAO'].isnull(),'value_is_NaN'] = df_cooperativas['NOME_INSTITUICAO']"
   ]
  },
  {
   "cell_type": "code",
   "execution_count": null,
   "id": "002cd36c",
   "metadata": {
    "scrolled": true
   },
   "outputs": [],
   "source": [
    "BC_concat = df.drop('REALIZAVEL ATE 3M', axis=1, inplace=True)"
   ]
  },
  {
   "cell_type": "code",
   "execution_count": null,
   "id": "48bfd908",
   "metadata": {},
   "outputs": [],
   "source": [
    "nomes = ['BPA_con', 'BPA_ind', 'BPP_con', 'BPP_ind', 'DFC_MD_con', 'DFC_MD_ind', 'DFC_MI_con', 'DFC_MI_ind', 'DMPL_con', 'DMPL_ind', 'DRE_ind', 'DRE_con', 'DRE_ind', 'DVA_con', 'DVA_ind']\n",
    "for nome in nomes: \n",
    "    arquivo = pd.DataFrame()\n",
    "    for ano in range(2011, 2022):\n",
    "        arquivo = pd.concat([arquivo, pd.read_csv(f'Documents/Masters/DATA/CVM/itr_cia_aberta_{nome}_{ano}f.csv', sep=';', decimal=',', encoding='ISO8859-1')])\n",
    "    arquivo.to_csv(f'Documents/Masters/DATA/itr_cia_aberta_{nome}_2011-2021.csv', index = False)"
   ]
  },
  {
   "cell_type": "code",
   "execution_count": null,
   "id": "819a0724",
   "metadata": {},
   "outputs": [],
   "source": []
  }
 ],
 "metadata": {
  "kernelspec": {
   "display_name": "Python 3 (ipykernel)",
   "language": "python",
   "name": "python3"
  },
  "language_info": {
   "codemirror_mode": {
    "name": "ipython",
    "version": 3
   },
   "file_extension": ".py",
   "mimetype": "text/x-python",
   "name": "python",
   "nbconvert_exporter": "python",
   "pygments_lexer": "ipython3",
   "version": "3.10.12"
  }
 },
 "nbformat": 4,
 "nbformat_minor": 5
}
