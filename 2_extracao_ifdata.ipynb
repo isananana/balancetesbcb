{
 "cells": [
  {
   "cell_type": "markdown",
   "id": "f7db1981-4d67-4736-892f-5971c01abd1a",
   "metadata": {},
   "source": [
    "### TRATAMENTO DO IFDATA DAS IFS REGULADAS PELO BANCO CENTRAL DO BRASIL (BCB)"
   ]
  },
  {
   "cell_type": "markdown",
   "id": "271fe915-7f0c-4402-a178-1b4fb134396b",
   "metadata": {},
   "source": [
    "Aqui há subcontas menos agregadas que não são encontradas nos Balancetes e Balanços Patrimoniais. "
   ]
  },
  {
   "cell_type": "markdown",
   "id": "0f88b1fe-c1d3-4a0f-96bb-6417106622c4",
   "metadata": {},
   "source": [
    "- **Nome oficial da base:** IF.data\n",
    "- **Órgão:** CMN, BCB\n",
    "- **Periodicidade:** trimestral \n",
    "- **Período:** 2011 a 2022 \n",
    "- **Forma de extração:** download do csv\n",
    "- **Link:** https://www3.bcb.gov.br/ifdata/"
   ]
  },
  {
   "cell_type": "markdown",
   "id": "e7c88798-fd61-4e25-a4ca-e16510cc97eb",
   "metadata": {},
   "source": [
    "**Por Luis Adolfo Mazini Rodrigues¹ e Isabella de Moura Rocha²**\n",
    "\n",
    "* ¹Graduado em Engenharia Mecânica, pela USP São Carlos e Doutorando em Bioenergia, pela USP Piracicaba, luis.mazinirodrigues@gmail.com \n",
    "* ²Graduada em Administração, pela UFSCar Sorocaba e Mestra em Administração, pela UFSCar Sorocaba, isabellamrocha0@gmail.com"
   ]
  },
  {
   "cell_type": "markdown",
   "id": "b73c9c75-8bb8-46f7-939c-ee51c1e1006f",
   "metadata": {},
   "source": [
    "*Os dados foram usados na dissertação: ROCHA, I.M. Rentabilidade, eficiência e risco em cooperativas de crédito e bancos comerciais. 2023. Dissertação (Mestrado em Administração) – Universidade Federal de São Carlos, Sorocaba, 2023. Disponível em: https://repositorio.ufscar.br/handle/ufscar/18956.*"
   ]
  },
  {
   "cell_type": "markdown",
   "id": "42dfbcb3-55b8-4b59-82a0-a5742344079c",
   "metadata": {},
   "source": [
    "### 1. Bibliotecas necessárias\n",
    "\n",
    "São importadas as bibliotecas necessárias para o processamento dos dados."
   ]
  },
  {
   "cell_type": "code",
   "execution_count": 1,
   "id": "7908933d",
   "metadata": {},
   "outputs": [],
   "source": [
    "import pandas as pd\n",
    "import csv\n",
    "import numpy as np\n",
    "from pathlib import Path\n",
    "from itertools import zip_longest"
   ]
  },
  {
   "cell_type": "markdown",
   "id": "9ae3834c-bcb1-45e3-8fa7-1ca5ed349d66",
   "metadata": {},
   "source": [
    "### 2. Pré-processamento de Dados\n",
    "\n",
    "Nesta seção, os arquivos são tratados para limpeza e organização. É só alterar o nome do seu diretório."
   ]
  },
  {
   "cell_type": "markdown",
   "id": "61bbe309",
   "metadata": {
    "jp-MarkdownHeadingCollapsed": true
   },
   "source": [
    "#### 2.1 arquivos 'Passivo'"
   ]
  },
  {
   "cell_type": "code",
   "execution_count": 2,
   "id": "980789d8",
   "metadata": {
    "scrolled": true
   },
   "outputs": [],
   "source": [
    "list_names = ['/home/isabella/Documents/Masters/dados_novos/passivo/' + child.name for child in Path('/home/isabella/Documents/Masters/dados_novos/passivo/').iterdir() if child.is_file()]"
   ]
  },
  {
   "cell_type": "code",
   "execution_count": 3,
   "id": "a7952d5f",
   "metadata": {},
   "outputs": [],
   "source": [
    "# função que lê e trata os dados\n",
    "def read_masters(arq, head):\n",
    "    with open(arq, 'r', encoding='ISO8859-1') as readFile:\n",
    "        lines = list(csv.reader(readFile, delimiter=';'))\n",
    "    raw_header = lines[:head]\n",
    "    data = lines[head:]\n",
    "    raw_headerT = np.array(raw_header, dtype=object).T.tolist()\n",
    "    header = list()\n",
    "    for h in raw_headerT:\n",
    "        st = ''\n",
    "        for ch in h:\n",
    "            if ch != '':\n",
    "                st = ch\n",
    "        if st != '':\n",
    "            header.append(st)\n",
    "    if len(header) > 32:\n",
    "        print(arq)\n",
    "    tranposed_tuples = zip_longest(*data, fillvalue=None)\n",
    "    transposed_tuples_list = list(tranposed_tuples)\n",
    "    transposed = [list(sublist) for sublist in transposed_tuples_list]\n",
    "    dict_values = dict(zip(header, transposed))\n",
    "    \n",
    "    return pd.DataFrame.from_dict(dict_values)"
   ]
  },
  {
   "cell_type": "code",
   "execution_count": 4,
   "id": "5ff3ab7c",
   "metadata": {},
   "outputs": [
    {
     "name": "stdout",
     "output_type": "stream",
     "text": [
      "/home/isabella/Documents/Masters/dados_novos/passivo/dados_miss.csv\n",
      "/home/isabella/Documents/Masters/dados_novos/passivo/dados(4)_miss.csv\n",
      "/home/isabella/Documents/Masters/dados_novos/passivo/dados(6)_miss.csv\n",
      "/home/isabella/Documents/Masters/dados_novos/passivo/dados(2)_miss.csv\n",
      "/home/isabella/Documents/Masters/dados_novos/passivo/dados(5)_miss.csv\n",
      "/home/isabella/Documents/Masters/dados_novos/passivo/dados(1)_miss.csv\n",
      "/home/isabella/Documents/Masters/dados_novos/passivo/dados(3)_miss.csv\n"
     ]
    }
   ],
   "source": [
    "# concatena os dados\n",
    "df_passivo = pd.concat(map(lambda x: read_masters(x, 3), list_names))"
   ]
  },
  {
   "cell_type": "code",
   "execution_count": 182,
   "id": "f8290b41",
   "metadata": {},
   "outputs": [
    {
     "data": {
      "text/html": [
       "<div>\n",
       "<style scoped>\n",
       "    .dataframe tbody tr th:only-of-type {\n",
       "        vertical-align: middle;\n",
       "    }\n",
       "\n",
       "    .dataframe tbody tr th {\n",
       "        vertical-align: top;\n",
       "    }\n",
       "\n",
       "    .dataframe thead th {\n",
       "        text-align: right;\n",
       "    }\n",
       "</style>\n",
       "<table border=\"1\" class=\"dataframe\">\n",
       "  <thead>\n",
       "    <tr style=\"text-align: right;\">\n",
       "      <th></th>\n",
       "      <th>ï»¿InstituiÃ§Ã£o financeira</th>\n",
       "      <th>CÃ³digo</th>\n",
       "      <th>Conglomerado</th>\n",
       "      <th>Conglomerado Financeiro</th>\n",
       "      <th>Conglomerado Prudencial</th>\n",
       "      <th>TCB</th>\n",
       "      <th>TC</th>\n",
       "      <th>TI</th>\n",
       "      <th>Cidade</th>\n",
       "      <th>UF</th>\n",
       "      <th>...</th>\n",
       "      <th>ObrigaÃ§Ãµes por EmprÃ©stimos e Repasses (d)</th>\n",
       "      <th>CaptaÃ§Ãµes (e) = (a) + (b) + (c) + (d)</th>\n",
       "      <th>Instrumentos Derivativos (f)</th>\n",
       "      <th>Outras ObrigaÃ§Ãµes (g)</th>\n",
       "      <th>Passivo Circulante e ExigÃ­vel a Longo Prazo (h) = (e) + (f) + (g)</th>\n",
       "      <th>Resultados de ExercÃ­cios Futuros (i)</th>\n",
       "      <th>PatrimÃ´nio LÃ­quido (j)</th>\n",
       "      <th>Passivo Total (k) = (h) + (i) + (j)</th>\n",
       "      <th>Conta de Pagamento PrÃ©-Paga (a5)</th>\n",
       "      <th>DepÃ³sitos Outros (a6)</th>\n",
       "    </tr>\n",
       "  </thead>\n",
       "  <tbody>\n",
       "  </tbody>\n",
       "</table>\n",
       "<p>0 rows × 34 columns</p>\n",
       "</div>"
      ],
      "text/plain": [
       "Empty DataFrame\n",
       "Columns: [ï»¿InstituiÃ§Ã£o financeira, CÃ³digo, Conglomerado, Conglomerado Financeiro, Conglomerado Prudencial, TCB, TC, TI, Cidade, UF, Data, DepÃ³sitos Ã  Vista (a1), DepÃ³sitos de PoupanÃ§a (a2), DepÃ³sitos Interfinanceiros (a3), DepÃ³sitos a Prazo (a4), Outros DepÃ³sitos (a5), DepÃ³sito Total (a), ObrigaÃ§Ãµes por OperaÃ§Ãµes Compromissadas (b), Letras de CrÃ©dito ImobiliÃ¡rio (c1), Letras de CrÃ©dito do AgronegÃ³cio (c2), Letras Financeiras (c3), ObrigaÃ§Ãµes por TÃ­tulos e Valores MobiliÃ¡rios no Exterior (c4), Outros Recursos de Aceites e EmissÃ£o de TÃ­tulos (c5), Recursos de Aceites e EmissÃ£o de TÃ­tulos (c), ObrigaÃ§Ãµes por EmprÃ©stimos e Repasses (d), CaptaÃ§Ãµes (e) = (a) + (b) + (c) + (d), Instrumentos Derivativos (f), Outras ObrigaÃ§Ãµes (g), Passivo Circulante e ExigÃ­vel a Longo Prazo (h) = (e) + (f) + (g), Resultados de ExercÃ­cios Futuros (i), PatrimÃ´nio LÃ­quido (j), Passivo Total (k) = (h) + (i) + (j), Conta de Pagamento PrÃ©-Paga (a5), DepÃ³sitos Outros (a6)]\n",
       "Index: []\n",
       "\n",
       "[0 rows x 34 columns]"
      ]
     },
     "execution_count": 182,
     "metadata": {},
     "output_type": "execute_result"
    }
   ],
   "source": [
    "df_passivo[df_passivo['Conta de Pagamento PrÃ©-Paga (a5)'] == df_passivo['Conta de Pagamento PrÃ©-Paga (a5)'].notna()]"
   ]
  },
  {
   "cell_type": "code",
   "execution_count": 7,
   "id": "9a95c25b",
   "metadata": {},
   "outputs": [],
   "source": [
    "# Salvando \n",
    "df_passivo.to_csv('/home/isabella/Documents/Masters/dados_novos/passivo_2001_2021.csv', index=False, encoding=\"utf-8\", decimal='.', sep=',')"
   ]
  },
  {
   "cell_type": "markdown",
   "id": "b81782ad",
   "metadata": {
    "jp-MarkdownHeadingCollapsed": true
   },
   "source": [
    "#### 2.2 arquivos 'Ativo'"
   ]
  },
  {
   "cell_type": "code",
   "execution_count": 8,
   "id": "fe546e6d",
   "metadata": {},
   "outputs": [],
   "source": [
    "list_names = ['/home/isabella/Documents/Masters/dados_novos/ativo/' + child.name for child in Path('/home/isabella/Documents/Masters/dados_novos/ativo/').iterdir() if child.is_file()]"
   ]
  },
  {
   "cell_type": "code",
   "execution_count": 9,
   "id": "1931b775",
   "metadata": {},
   "outputs": [],
   "source": [
    "# função que lê e trata os dados\n",
    "def read_masters(arq, head):\n",
    "    with open(arq, 'r', encoding='ISO8859-1') as readFile:\n",
    "        lines = list(csv.reader(readFile, delimiter=';'))\n",
    "    raw_header = lines[:head]\n",
    "    data = lines[head:]\n",
    "    raw_headerT = np.array(raw_header, dtype=object).T.tolist()\n",
    "    header = list()\n",
    "    for h in raw_headerT:\n",
    "        st = ''\n",
    "        for ch in h:\n",
    "            if ch != '':\n",
    "                st = ch\n",
    "        if st != '':\n",
    "            header.append(st)\n",
    "    if len(header) > 32:\n",
    "        print(arq)\n",
    "    tranposed_tuples = zip_longest(*data, fillvalue=None)\n",
    "    transposed_tuples_list = list(tranposed_tuples)\n",
    "    transposed = [list(sublist) for sublist in transposed_tuples_list]\n",
    "    dict_values = dict(zip(header, transposed))\n",
    "    \n",
    "    return pd.DataFrame.from_dict(dict_values)"
   ]
  },
  {
   "cell_type": "code",
   "execution_count": 10,
   "id": "356e5d9e",
   "metadata": {},
   "outputs": [],
   "source": [
    "# concatena os dados\n",
    "df_ativo = pd.concat(map(lambda x: read_masters(x, 2), list_names))"
   ]
  },
  {
   "cell_type": "code",
   "execution_count": 12,
   "id": "9b0c16a9",
   "metadata": {},
   "outputs": [],
   "source": [
    "# Salvando \n",
    "df_ativo.to_csv('/home/isabella/Documents/Masters/dados_novos/ativo_2001_2021.csv', index=False, encoding=\"utf-8\", decimal='.', sep=';')"
   ]
  },
  {
   "cell_type": "markdown",
   "id": "058478d2",
   "metadata": {
    "jp-MarkdownHeadingCollapsed": true
   },
   "source": [
    "#### 2.3 arquivos 'DRE'"
   ]
  },
  {
   "cell_type": "code",
   "execution_count": 10,
   "id": "e2ad5ad2",
   "metadata": {},
   "outputs": [],
   "source": [
    "list_names = ['/home/isabella/Documents/Masters/dados_novos/dre/' + child.name for child in Path('/home/isabella/Documents/Masters/dados_novos/dre/').iterdir() if child.is_file()]"
   ]
  },
  {
   "cell_type": "code",
   "execution_count": 11,
   "id": "e28df722",
   "metadata": {},
   "outputs": [],
   "source": [
    "# função que lê e trata os dados\n",
    "def read_masters(arq, head):\n",
    "    with open(arq, 'r', encoding='ISO8859-1') as readFile:\n",
    "        lines = list(csv.reader(readFile, delimiter=';'))\n",
    "    raw_header = lines[:head]\n",
    "    data = lines[head:]\n",
    "    raw_headerT = np.array(raw_header, dtype=object).T.tolist()\n",
    "    header = list()\n",
    "    for h in raw_headerT:\n",
    "        st = ''\n",
    "        for ch in h:\n",
    "            if ch != '':\n",
    "                st = ch\n",
    "        if st != '':\n",
    "            header.append(st)\n",
    "    if len(header) > 32:\n",
    "        print(arq)\n",
    "    tranposed_tuples = zip_longest(*data, fillvalue=None)\n",
    "    transposed_tuples_list = list(tranposed_tuples)\n",
    "    transposed = [list(sublist) for sublist in transposed_tuples_list]\n",
    "    dict_values = dict(zip(header, transposed))\n",
    "    \n",
    "    return pd.DataFrame.from_dict(dict_values)"
   ]
  },
  {
   "cell_type": "code",
   "execution_count": 13,
   "id": "11de002c",
   "metadata": {
    "scrolled": true
   },
   "outputs": [
    {
     "name": "stdout",
     "output_type": "stream",
     "text": [
      "/home/isabella/Documents/Masters/dados_novos/dre/dados(64).csv\n",
      "/home/isabella/Documents/Masters/dados_novos/dre/dados(27).csv\n",
      "/home/isabella/Documents/Masters/dados_novos/dre/dados(41).csv\n",
      "/home/isabella/Documents/Masters/dados_novos/dre/dados(15).csv\n",
      "/home/isabella/Documents/Masters/dados_novos/dre/dados(76).csv\n",
      "/home/isabella/Documents/Masters/dados_novos/dre/dados(21).csv\n",
      "/home/isabella/Documents/Masters/dados_novos/dre/dados(30).csv\n",
      "/home/isabella/Documents/Masters/dados_novos/dre/dados(69).csv\n",
      "/home/isabella/Documents/Masters/dados_novos/dre/dados(3).csv\n",
      "/home/isabella/Documents/Masters/dados_novos/dre/dados(4).csv\n",
      "/home/isabella/Documents/Masters/dados_novos/dre/dados(72).csv\n",
      "/home/isabella/Documents/Masters/dados_novos/dre/dados(42).csv\n",
      "/home/isabella/Documents/Masters/dados_novos/dre/dados(59).csv\n",
      "/home/isabella/Documents/Masters/dados_novos/dre/dados(22).csv\n",
      "/home/isabella/Documents/Masters/dados_novos/dre/dados(14).csv\n",
      "/home/isabella/Documents/Masters/dados_novos/dre/dados(68).csv\n",
      "/home/isabella/Documents/Masters/dados_novos/dre/dados(11).csv\n",
      "/home/isabella/Documents/Masters/dados_novos/dre/dados(66).csv\n",
      "/home/isabella/Documents/Masters/dados_novos/dre/dados(2).csv\n",
      "/home/isabella/Documents/Masters/dados_novos/dre/dados(39).csv\n",
      "/home/isabella/Documents/Masters/dados_novos/dre/dados(35).csv\n",
      "/home/isabella/Documents/Masters/dados_novos/dre/dados(40).csv\n",
      "/home/isabella/Documents/Masters/dados_novos/dre/dados(20).csv\n",
      "/home/isabella/Documents/Masters/dados_novos/dre/dados(75).csv\n",
      "/home/isabella/Documents/Masters/dados_novos/dre/dados(34).csv\n",
      "/home/isabella/Documents/Masters/dados_novos/dre/dados(73).csv\n",
      "/home/isabella/Documents/Masters/dados_novos/dre/dados(55).csv\n",
      "/home/isabella/Documents/Masters/dados_novos/dre/dados(47).csv\n",
      "/home/isabella/Documents/Masters/dados_novos/dre/dados(6).csv\n",
      "/home/isabella/Documents/Masters/dados_novos/dre/dados(43).csv\n",
      "/home/isabella/Documents/Masters/dados_novos/dre/dados(74).csv\n",
      "/home/isabella/Documents/Masters/dados_novos/dre/dados(12).csv\n",
      "/home/isabella/Documents/Masters/dados_novos/dre/dados(48).csv\n",
      "/home/isabella/Documents/Masters/dados_novos/dre/dados(23).csv\n",
      "/home/isabella/Documents/Masters/dados_novos/dre/dados(54).csv\n",
      "/home/isabella/Documents/Masters/dados_novos/dre/dados(71).csv\n",
      "/home/isabella/Documents/Masters/dados_novos/dre/dados(63).csv\n",
      "/home/isabella/Documents/Masters/dados_novos/dre/dados(1).csv\n",
      "/home/isabella/Documents/Masters/dados_novos/dre/dados(28).csv\n",
      "/home/isabella/Documents/Masters/dados_novos/dre/dados(58).csv\n",
      "/home/isabella/Documents/Masters/dados_novos/dre/dados(32).csv\n",
      "/home/isabella/Documents/Masters/dados_novos/dre/dados(16).csv\n",
      "/home/isabella/Documents/Masters/dados_novos/dre/dados.csv\n",
      "/home/isabella/Documents/Masters/dados_novos/dre/dados(18).csv\n",
      "/home/isabella/Documents/Masters/dados_novos/dre/dados(83).csv\n",
      "/home/isabella/Documents/Masters/dados_novos/dre/dados(37).csv\n",
      "/home/isabella/Documents/Masters/dados_novos/dre/dados(45).csv\n",
      "/home/isabella/Documents/Masters/dados_novos/dre/dados(7).csv\n",
      "/home/isabella/Documents/Masters/dados_novos/dre/dados(49).csv\n",
      "/home/isabella/Documents/Masters/dados_novos/dre/dados(13).csv\n",
      "/home/isabella/Documents/Masters/dados_novos/dre/dados(56).csv\n",
      "/home/isabella/Documents/Masters/dados_novos/dre/dados(31).csv\n",
      "/home/isabella/Documents/Masters/dados_novos/dre/dados(82).csv\n",
      "/home/isabella/Documents/Masters/dados_novos/dre/dados(52).csv\n",
      "/home/isabella/Documents/Masters/dados_novos/dre/dados(38).csv\n",
      "/home/isabella/Documents/Masters/dados_novos/dre/dados(44).csv\n",
      "/home/isabella/Documents/Masters/dados_novos/dre/dados(78).csv\n",
      "/home/isabella/Documents/Masters/dados_novos/dre/dados(10).csv\n",
      "/home/isabella/Documents/Masters/dados_novos/dre/dados(51).csv\n",
      "/home/isabella/Documents/Masters/dados_novos/dre/dados(36).csv\n",
      "/home/isabella/Documents/Masters/dados_novos/dre/dados(9).csv\n",
      "/home/isabella/Documents/Masters/dados_novos/dre/dados(24).csv\n",
      "/home/isabella/Documents/Masters/dados_novos/dre/dados(70).csv\n",
      "/home/isabella/Documents/Masters/dados_novos/dre/dados(17).csv\n",
      "/home/isabella/Documents/Masters/dados_novos/dre/dados(60).csv\n",
      "/home/isabella/Documents/Masters/dados_novos/dre/dados(79).csv\n",
      "/home/isabella/Documents/Masters/dados_novos/dre/dados(29).csv\n",
      "/home/isabella/Documents/Masters/dados_novos/dre/dados(81).csv\n",
      "/home/isabella/Documents/Masters/dados_novos/dre/dados(8).csv\n",
      "/home/isabella/Documents/Masters/dados_novos/dre/dados(46).csv\n",
      "/home/isabella/Documents/Masters/dados_novos/dre/dados(57).csv\n",
      "/home/isabella/Documents/Masters/dados_novos/dre/dados(25).csv\n",
      "/home/isabella/Documents/Masters/dados_novos/dre/dados(62).csv\n",
      "/home/isabella/Documents/Masters/dados_novos/dre/dados(50).csv\n",
      "/home/isabella/Documents/Masters/dados_novos/dre/dados(26).csv\n",
      "/home/isabella/Documents/Masters/dados_novos/dre/dados(80).csv\n",
      "/home/isabella/Documents/Masters/dados_novos/dre/dados(53).csv\n",
      "/home/isabella/Documents/Masters/dados_novos/dre/dados(33).csv\n",
      "/home/isabella/Documents/Masters/dados_novos/dre/dados(67).csv\n",
      "/home/isabella/Documents/Masters/dados_novos/dre/dados(77).csv\n",
      "/home/isabella/Documents/Masters/dados_novos/dre/dados(19).csv\n",
      "/home/isabella/Documents/Masters/dados_novos/dre/dados(5).csv\n",
      "/home/isabella/Documents/Masters/dados_novos/dre/dados(65).csv\n",
      "/home/isabella/Documents/Masters/dados_novos/dre/dados(61).csv\n"
     ]
    }
   ],
   "source": [
    "# concatena os dados\n",
    "df_dre = pd.concat(map(lambda x: read_masters(x, 3), list_names))"
   ]
  },
  {
   "cell_type": "code",
   "execution_count": 14,
   "id": "dd871f61",
   "metadata": {},
   "outputs": [],
   "source": [
    "# Salvando \n",
    "df_dre.to_csv('/home/isabella/Documents/Masters/dados_novos/dre_2001_2021.csv', index=False, encoding=\"utf-8\", decimal='.', sep=',')"
   ]
  },
  {
   "cell_type": "code",
   "execution_count": null,
   "id": "5df51a27",
   "metadata": {},
   "outputs": [],
   "source": []
  }
 ],
 "metadata": {
  "kernelspec": {
   "display_name": "Python 3 (ipykernel)",
   "language": "python",
   "name": "python3"
  },
  "language_info": {
   "codemirror_mode": {
    "name": "ipython",
    "version": 3
   },
   "file_extension": ".py",
   "mimetype": "text/x-python",
   "name": "python",
   "nbconvert_exporter": "python",
   "pygments_lexer": "ipython3",
   "version": "3.10.12"
  }
 },
 "nbformat": 4,
 "nbformat_minor": 5
}
