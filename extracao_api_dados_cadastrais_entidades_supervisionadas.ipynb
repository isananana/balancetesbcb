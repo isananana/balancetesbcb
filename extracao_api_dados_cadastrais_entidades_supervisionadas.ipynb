{
 "cells": [
  {
   "cell_type": "markdown",
   "id": "98bd09a8-452f-4dbe-8dc9-2c9771b3e224",
   "metadata": {},
   "source": [
    "### EXTRAÇÃO E TRATAMENTO DOS DADOS DE ENTIDADES SUPERVISIONADAS"
   ]
  },
  {
   "cell_type": "markdown",
   "id": "99d9508d-e6ae-4b87-8ebd-f86cdcbda4f9",
   "metadata": {},
   "source": [
    "- **Nome oficial da base:** IF.data\n",
    "- **Órgão:** CMN, BCB\n",
    "- **Periodicidade:** mensal \n",
    "- **Período:** 2011 a 2022 \n",
    "- **Forma de extração:** API\n",
    "- **Link:** https://dadosabertos.bcb.gov.br/dataset/dados-cadastrais-de-entidades-autorizadas"
   ]
  },
  {
   "cell_type": "markdown",
   "id": "ce88189f-2534-40a6-b745-7fdc02236b68",
   "metadata": {},
   "source": [
    "**Por Isabella de Moura Rocha**\n",
    "\n",
    "Graduada em Administração, pela UFSCar Sorocaba e Mestra em Administração, pela UFSCar Sorocaba, isabellamrocha0@gmail.com"
   ]
  },
  {
   "cell_type": "markdown",
   "id": "394a337d-1947-4006-81ec-7400a9ad6e34",
   "metadata": {},
   "source": [
    "*Os dados foram usados na dissertação: ROCHA, I.M. Rentabilidade, eficiência e risco em cooperativas de crédito e bancos comerciais. 2023. Dissertação (Mestrado em Administração) – Universidade Federal de São Carlos, Sorocaba, 2023. Disponível em: https://repositorio.ufscar.br/handle/ufscar/18956.*"
   ]
  },
  {
   "cell_type": "markdown",
   "id": "263ce84b-bcdb-472a-8410-34516a91e221",
   "metadata": {},
   "source": [
    "### 1. Bibliotecas necessárias\n",
    "\n",
    "São importadas as bibliotecas necessárias para o processamento dos dados."
   ]
  },
  {
   "cell_type": "code",
   "execution_count": 1,
   "id": "f8ae07d8-d947-4ac4-82f3-7ebe43085e9f",
   "metadata": {},
   "outputs": [],
   "source": [
    "import pandas as pd\n",
    "import requests"
   ]
  },
  {
   "cell_type": "markdown",
   "id": "dafd1085-b173-4bfb-a3f4-a90baf08e591",
   "metadata": {},
   "source": [
    "### 2. Requisição API BCB entidades supervisionadas"
   ]
  },
  {
   "cell_type": "code",
   "execution_count": null,
   "id": "cd999ccf-96d6-4548-9ccb-a02e490a6231",
   "metadata": {},
   "outputs": [],
   "source": [
    "entidades_supervisionadas = []\n",
    "\n",
    "base_url = \"https://olinda.bcb.gov.br/olinda/servico/BcBase/versao/v2/odata/EntidadesSupervisionadas\"\n",
    "\n",
    "inicio_ano = 2011 # quero esses anos de interesse, só alterar o de preferência\n",
    "fim_ano = 2022\n",
    "\n",
    "for year in range(inicio_ano, fim_ano + 1): # itera sobre todos os anos\n",
    "    data_base = f\"12-31-{year}\"\n",
    "    # Quero essas colunas de interesse. Quem quiser mais, só adicionar conforme a documentação.\n",
    "    url = f\"{base_url}(dataBase=@dataBase)?@dataBase='{data_base}'&$format=json\" \\\n",
    "          \"&$select=database,nomeEntidadeInteresseNaoFormatado,codigoCNPJ14,codigoCNPJ8,\" \\\n",
    "          \"codigoTipoSituacaoPessoaJuridica,descricaoTipoSituacaoPessoaJuridica,\" \\\n",
    "          \"codigoTipoEntidadeSupervisionada,descricaoTipoEntidadeSupervisionada,nomeReduzido\"\n",
    "\n",
    "    response = requests.get(url) # Faz a requisição\n",
    "\n",
    "    if response.status_code == 200:\n",
    "        data = response.json().get('value', [])\n",
    "        if data:\n",
    "            entidades_supervisionadas.extend(data)\n",
    "\n",
    "cadastro_ifs = pd.DataFrame(entidades_supervisionadas)"
   ]
  },
  {
   "cell_type": "code",
   "execution_count": null,
   "id": "cd7b77ff-cdfe-4027-9db0-b85b55e1a4d3",
   "metadata": {},
   "outputs": [],
   "source": [
    "cadastro_ifs.to_parquet('EntidadesSupervisionadas_2011a2022.parquet')"
   ]
  },
  {
   "cell_type": "markdown",
   "id": "d156b710-91c0-4fd8-b84f-6bb730344b7f",
   "metadata": {},
   "source": [
    "### Filtrar entidades de interesse"
   ]
  },
  {
   "cell_type": "markdown",
   "id": "fb3ccbe7-5142-438d-bf50-c50a3a092141",
   "metadata": {},
   "source": [
    "Só estou interessada em Bancos Comerciais e Cooperativas de Crédito"
   ]
  },
  {
   "cell_type": "code",
   "execution_count": 7,
   "id": "c991260d-f286-461d-8543-9f8fc6ede87b",
   "metadata": {},
   "outputs": [],
   "source": [
    "cadastro_ifs = cadastro_ifs[(cadastro_ifs['descricaoTipoEntidadeSupervisionada']=='Banco Comercial')|\n",
    "(cadastro_ifs['descricaoTipoEntidadeSupervisionada']=='Banco Comercial Estrangeiro - Filial no país')|\n",
    "(cadastro_ifs['descricaoTipoEntidadeSupervisionada']=='Banco Múltiplo')|\n",
    "(cadastro_ifs['descricaoTipoEntidadeSupervisionada']=='Cooperativa de Crédito')]"
   ]
  },
  {
   "cell_type": "code",
   "execution_count": 8,
   "id": "3fddcc50-edce-498c-916b-0509a4e792b9",
   "metadata": {},
   "outputs": [],
   "source": [
    "cadastro_ifs.to_parquet('dados_cadastrais_cooperativas_bancos_comerciais.parquet')"
   ]
  }
 ],
 "metadata": {
  "kernelspec": {
   "display_name": "Python 3 (ipykernel)",
   "language": "python",
   "name": "python3"
  },
  "language_info": {
   "codemirror_mode": {
    "name": "ipython",
    "version": 3
   },
   "file_extension": ".py",
   "mimetype": "text/x-python",
   "name": "python",
   "nbconvert_exporter": "python",
   "pygments_lexer": "ipython3",
   "version": "3.10.12"
  }
 },
 "nbformat": 4,
 "nbformat_minor": 5
}
